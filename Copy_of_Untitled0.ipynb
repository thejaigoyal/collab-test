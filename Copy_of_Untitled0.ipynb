{
  "nbformat": 4,
  "nbformat_minor": 0,
  "metadata": {
    "colab": {
      "provenance": [],
      "authorship_tag": "ABX9TyMT31YQY8cdWRwJDjbROJRs",
      "include_colab_link": true
    },
    "kernelspec": {
      "name": "python3",
      "display_name": "Python 3"
    },
    "language_info": {
      "name": "python"
    }
  },
  "cells": [
    {
      "cell_type": "markdown",
      "metadata": {
        "id": "view-in-github",
        "colab_type": "text"
      },
      "source": [
        "<a href=\"https://colab.research.google.com/github/thejaigoyal/collab-test/blob/main/Copy_of_Untitled0.ipynb\" target=\"_parent\"><img src=\"https://colab.research.google.com/assets/colab-badge.svg\" alt=\"Open In Colab\"/></a>"
      ]
    },
    {
      "cell_type": "code",
      "execution_count": null,
      "metadata": {
        "id": "5Wov324XrGkC"
      },
      "outputs": [],
      "source": [
        "import requests\n",
        "import tensorflow as tf\n",
        "\n",
        "class RainPrediction:\n",
        "    def __init__(self, api_key):\n",
        "        self.api_key = api_key\n",
        "        self.url = 'https://api.openweathermap.org/data/2.5/weather?q={},{}&appid={}'\n",
        "        self.features = ['temp', 'feels_like', 'temp_min', 'temp_max', 'pressure', 'humidity']\n",
        "\n",
        "    def get_data(self, city, country):\n",
        "        url = self.url.format(city, country, self.api_key)\n",
        "        response = requests.get(url)\n",
        "        data = response.json()\n",
        "        x = [data['main'][feature] for feature in self.features]\n",
        "        y = [data['weather'][0]['main'] == 'Rain']\n",
        "        return x, y\n",
        "\n",
        "    def train_model(self, cities, countries):\n",
        "        x_train, y_train = [], []\n",
        "        for city, country in zip(cities, countries):\n",
        "            x, y = self.get_data(city, country)\n",
        "            print(x)\n",
        "            print(y)\n",
        "            x_train.append(x)\n",
        "            y_train.append(y)\n",
        "\n",
        "        model = tf.keras.models.Sequential([\n",
        "            tf.keras.layers.Dense(128, activation='relu'),\n",
        "            tf.keras.layers.Dense(64, activation='relu'),\n",
        "            tf.keras.layers.Dense(1, activation='sigmoid')\n",
        "        ])\n",
        "        model.compile(optimizer='adam', loss='binary_crossentropy', metrics=['accuracy'])\n",
        "        model.fit(x_train, y_train, epochs=10, batch_size=16)\n",
        "\n",
        "        self.model = model\n",
        "\n",
        "    def predict(self, city, country):\n",
        "        x, y = self.get_data(city, country)\n",
        "        prediction = self.model.predict([x])[0][0]\n",
        "        return prediction"
      ]
    },
    {
      "cell_type": "code",
      "source": [
        "api_key=\"fa068c11784a2459a6bf25c1de8b797c\"\n",
        "city='Noida'\n",
        "country='IN'\n",
        "rain_prediction = RainPrediction(api_key)\n",
        "rain_prediction.train_model(cities=['Delhi', 'National Capital Territory of Delhi'], countries=['IN', 'IN'])\n",
        "prediction = rain_prediction.predict(city, country)\n",
        "print('Possibility of rain in', city, \":\", prediction)"
      ],
      "metadata": {
        "colab": {
          "base_uri": "https://localhost:8080/"
        },
        "id": "h_seCz5-tYF8",
        "outputId": "3e20bea7-5d37-4994-976c-16cd44457c6b"
      },
      "execution_count": null,
      "outputs": [
        {
          "output_type": "stream",
          "name": "stdout",
          "text": [
            "[302.2, 301.06, 302.2, 302.2, 1018, 30]\n",
            "[False]\n",
            "[302.28, 300.61, 302.28, 302.28, 1014, 13]\n",
            "[False]\n",
            "Epoch 1/10\n",
            "1/1 [==============================] - 1s 765ms/step - loss: 67.0114 - accuracy: 0.0000e+00\n",
            "Epoch 2/10\n",
            "1/1 [==============================] - 0s 14ms/step - loss: 21.3410 - accuracy: 0.0000e+00\n",
            "Epoch 3/10\n",
            "1/1 [==============================] - 0s 12ms/step - loss: 2.9949e-10 - accuracy: 1.0000\n",
            "Epoch 4/10\n",
            "1/1 [==============================] - 0s 14ms/step - loss: 1.6030e-24 - accuracy: 1.0000\n",
            "Epoch 5/10\n",
            "1/1 [==============================] - 0s 14ms/step - loss: 6.5180e-36 - accuracy: 1.0000\n",
            "Epoch 6/10\n",
            "1/1 [==============================] - 0s 13ms/step - loss: 0.0000e+00 - accuracy: 1.0000\n",
            "Epoch 7/10\n",
            "1/1 [==============================] - 0s 16ms/step - loss: 0.0000e+00 - accuracy: 1.0000\n",
            "Epoch 8/10\n",
            "1/1 [==============================] - 0s 19ms/step - loss: 0.0000e+00 - accuracy: 1.0000\n",
            "Epoch 9/10\n",
            "1/1 [==============================] - 0s 13ms/step - loss: 0.0000e+00 - accuracy: 1.0000\n",
            "Epoch 10/10\n",
            "1/1 [==============================] - 0s 12ms/step - loss: 0.0000e+00 - accuracy: 1.0000\n",
            "1/1 [==============================] - 0s 127ms/step\n",
            "Possibility of rain in Noida  :  0.0\n"
          ]
        }
      ]
    }
  ]
}